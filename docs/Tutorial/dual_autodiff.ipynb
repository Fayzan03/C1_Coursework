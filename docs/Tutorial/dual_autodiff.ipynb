{
 "cells": [
  {
   "cell_type": "markdown",
   "metadata": {},
   "source": [
    "## Tutorial Notebook\n",
    "---\n",
    "\n",
    "This is a basic tutorial showcasing the various features of the `dual_autodiff` Python package. \n",
    "\n",
    "### Basic Usage\n",
    "\n",
    "Once the package has been installed, import the dual_autodiff package:\n"
   ]
  },
  {
   "cell_type": "code",
   "execution_count": null,
   "metadata": {},
   "outputs": [],
   "source": [
    "import dual_autodiff as df"
   ]
  },
  {
   "cell_type": "markdown",
   "metadata": {},
   "source": [
    "We can create a dual number by calling the `Dual` class and passing a real and dual part as arguments. We can then return the real and dual parts in two different ways, as shown below:"
   ]
  },
  {
   "cell_type": "code",
   "execution_count": 50,
   "metadata": {},
   "outputs": [
    {
     "name": "stdout",
     "output_type": "stream",
     "text": [
      "2\n",
      "1\n"
     ]
    }
   ],
   "source": [
    "# Define a dual number\n",
    "x=df.Dual(2,1)\n",
    "\n",
    "# Print the real and dual parts, either using the class attributes or designated member functions\n",
    "print(x.real)\n",
    "print(x.du())"
   ]
  },
  {
   "cell_type": "markdown",
   "metadata": {},
   "source": [
    "We can apply basic arithmetical operations to dual numbers as we would with real numbers. This includes: addition, subtraction, multiplication, and division on the LHS and RHS of the dual number; operate-and-assign operators; raising to a (real) exponent; and comparison operators.\n"
   ]
  },
  {
   "cell_type": "code",
   "execution_count": null,
   "metadata": {},
   "outputs": [
    {
     "name": "stdout",
     "output_type": "stream",
     "text": [
      "Dual(real=5, dual=5)\n"
     ]
    }
   ],
   "source": [
    "y=df.Dual(3,4)\n",
    "# addition\n",
    "print(x+y)"
   ]
  },
  {
   "cell_type": "code",
   "execution_count": null,
   "metadata": {},
   "outputs": [
    {
     "name": "stdout",
     "output_type": "stream",
     "text": [
      "Dual(real=0.015, dual=0.0125)\n"
     ]
    }
   ],
   "source": [
    "# division\n",
    "print(y/x)"
   ]
  },
  {
   "cell_type": "code",
   "execution_count": 53,
   "metadata": {},
   "outputs": [
    {
     "name": "stdout",
     "output_type": "stream",
     "text": [
      "Dual(real=-2, dual=4) Dual(real=2, dual=-4)\n"
     ]
    }
   ],
   "source": [
    "# We can also apply such operations to real numbers on both the LHS and RHS of a dual number.\n",
    "print(y-5, 5-y)"
   ]
  },
  {
   "cell_type": "code",
   "execution_count": 56,
   "metadata": {},
   "outputs": [
    {
     "name": "stdout",
     "output_type": "stream",
     "text": [
      "Dual(real=2000, dual=1000)\n"
     ]
    }
   ],
   "source": [
    "# The operate-and-assign operators are also defined similarly.\n",
    "\n",
    "x*=10\n",
    "\n",
    "print(x)"
   ]
  },
  {
   "cell_type": "code",
   "execution_count": 57,
   "metadata": {},
   "outputs": [
    {
     "name": "stdout",
     "output_type": "stream",
     "text": [
      "Dual(real=2.0, dual=2.25)\n",
      "Dual(real=2.0, dual=2.25)\n"
     ]
    }
   ],
   "source": [
    "# Exponentiation of dual numbers is defined for purely real exponents (i.e. the dual part must be 0).\n",
    "\n",
    "z=df.Dual(4,9)\n",
    "\n",
    "print(z**0.5)\n",
    "print(z**df.Dual(0.5,0))"
   ]
  },
  {
   "cell_type": "code",
   "execution_count": 61,
   "metadata": {},
   "outputs": [
    {
     "data": {
      "text/plain": [
       "False"
      ]
     },
     "execution_count": 61,
     "metadata": {},
     "output_type": "execute_result"
    }
   ],
   "source": [
    "# We can check for (in)equivalence of dual numbers. \n",
    "\n",
    "x==z"
   ]
  },
  {
   "cell_type": "code",
   "execution_count": 60,
   "metadata": {},
   "outputs": [
    {
     "name": "stdout",
     "output_type": "stream",
     "text": [
      "Dual(real=0.25, dual=-0.5625)\n",
      "Dual(real=0.25, dual=-0.5625)\n"
     ]
    }
   ],
   "source": [
    "# Note: '~' is the inversion operator (equivalent to raising an dual number to an exponent of (-1)).\n",
    "\n",
    "print(~z)\n",
    "print(z**(-1))"
   ]
  },
  {
   "cell_type": "markdown",
   "metadata": {},
   "source": [
    "The `Dual` class also defines several common mathematical functions (see documentation for details) that can be extended to dual numbers.\n"
   ]
  },
  {
   "cell_type": "code",
   "execution_count": null,
   "metadata": {},
   "outputs": [
    {
     "name": "stdout",
     "output_type": "stream",
     "text": [
      "Dual(real=1.0, dual=6.123233995736766e-17)\n",
      "Dual(real=2.718281828459045, dual=13.591409142295225)\n"
     ]
    }
   ],
   "source": [
    "import numpy as np\n",
    "\n",
    "a=df.Dual(np.pi/2, 1)\n",
    "\n",
    "print(a.sin())\n",
    "\n",
    "print(df.Dual(1,5).exp())"
   ]
  },
  {
   "cell_type": "markdown",
   "metadata": {},
   "source": [
    "### Example - using the `Dual` class to compute derivatives\n",
    "\n",
    "Dual numbers allow us to compute gradients to high levels of accuracy via the technique of Automatic Differentiation. \n",
    "\n",
    "This follows from Taylor's Theorem,\n",
    "$ f(a + b \\epsilon) = f(a) + f^\\prime(a) (b \\epsilon)$\n",
    "where higher-order terms vanish since $\\epsilon^2=0$. Thus the gradient at $x=a$ can be found by taking the dual part of $ f(a + \\epsilon) $.\n",
    "\n",
    "Below, we compute the gradient of $ f(x) = log(sin(x)) + x^2 cos(x) $ using dual numbers at $x=1.5$."
   ]
  },
  {
   "cell_type": "code",
   "execution_count": 49,
   "metadata": {},
   "outputs": [
    {
     "name": "stdout",
     "output_type": "stream",
     "text": [
      "-1.9612372705533612\n",
      "-1.9612372705533612\n"
     ]
    }
   ],
   "source": [
    "# Define a function that we would like to differentiate. \n",
    "output = (x.sin()).log() + (x**2) * x.cos()\n",
    "\n",
    "# Compute gradient at x==1.5 using Taylors' Theorem\n",
    "x=df.Dual(1.5,1)\n",
    "gradient=output.dual\n",
    "print(gradient)\n",
    "\n",
    "# Compare to the analytical result\n",
    "def f_prime(x):\n",
    "    return 1/np.tan(x) + 2*x*np.cos(x) - x**2 * np.sin(x)\n",
    "    \n",
    "print(f_prime(1.5))"
   ]
  }
 ],
 "metadata": {
  "kernelspec": {
   "display_name": "Python 3 (ipykernel)",
   "language": "python",
   "name": "python3"
  },
  "language_info": {
   "codemirror_mode": {
    "name": "ipython",
    "version": 3
   },
   "file_extension": ".py",
   "mimetype": "text/x-python",
   "name": "python",
   "nbconvert_exporter": "python",
   "pygments_lexer": "ipython3",
   "version": "3.11.0rc1"
  }
 },
 "nbformat": 4,
 "nbformat_minor": 4
}
