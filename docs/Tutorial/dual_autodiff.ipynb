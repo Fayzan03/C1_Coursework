{
 "cells": [
  {
   "cell_type": "markdown",
   "metadata": {},
   "source": [
    "## Tutorial Notebook\n",
    "\n",
    "This is a basic tutorial showcasing the various features of the `dual_autodiff` Python package. \n",
    "\n",
    "### Basic Usage\n",
    "\n",
    "Once the package has been installed, import the dual_autodiff package:\n"
   ]
  },
  {
   "cell_type": "code",
   "execution_count": 1,
   "metadata": {},
   "outputs": [
    {
     "name": "stdout",
     "output_type": "stream",
     "text": [
      "dual_autodiff package version: 0.1.0\n"
     ]
    }
   ],
   "source": [
    "import dual_autodiff as df"
   ]
  },
  {
   "cell_type": "markdown",
   "metadata": {},
   "source": [
    "We can create a dual number by calling the `Dual` class and passing a real and dual part as arguments. We can then return the real and dual parts in two different ways, as shown below:"
   ]
  },
  {
   "cell_type": "code",
   "execution_count": 2,
   "metadata": {},
   "outputs": [
    {
     "name": "stdout",
     "output_type": "stream",
     "text": [
      "2\n",
      "1\n"
     ]
    }
   ],
   "source": [
    "# Define a dual number\n",
    "x=df.Dual(2,1)\n",
    "\n",
    "# Print the real and dual parts, either using the class attributes or designated member functions\n",
    "print(x.real)\n",
    "print(x.du())"
   ]
  },
  {
   "cell_type": "markdown",
   "metadata": {},
   "source": [
    "We can apply basic arithmetical operations to dual numbers as we would with real numbers. This includes: addition, subtraction, multiplication, and division on either the LHS or RHS of the dual number; operate-and-assign operators; raising to a (real) exponent; comparison operators; and unary operators (i.e. inverting, or putting a '-' sign in front of a dual number).\n"
   ]
  },
  {
   "cell_type": "code",
   "execution_count": 3,
   "metadata": {},
   "outputs": [
    {
     "name": "stdout",
     "output_type": "stream",
     "text": [
      "Dual(real=5, dual=5)\n"
     ]
    }
   ],
   "source": [
    "y=df.Dual(3,4)\n",
    "# addition\n",
    "print(x+y)"
   ]
  },
  {
   "cell_type": "code",
   "execution_count": 4,
   "metadata": {},
   "outputs": [
    {
     "name": "stdout",
     "output_type": "stream",
     "text": [
      "Dual(real=1.5, dual=1.25)\n"
     ]
    }
   ],
   "source": [
    "# division\n",
    "print(y/x)"
   ]
  },
  {
   "cell_type": "code",
   "execution_count": 5,
   "metadata": {},
   "outputs": [
    {
     "name": "stdout",
     "output_type": "stream",
     "text": [
      "Dual(real=-2, dual=4) Dual(real=2, dual=-4)\n"
     ]
    }
   ],
   "source": [
    "# We can also apply such operations to real numbers on both the LHS and RHS of a dual number.\n",
    "print(y-5, 5-y)"
   ]
  },
  {
   "cell_type": "code",
   "execution_count": 6,
   "metadata": {},
   "outputs": [
    {
     "name": "stdout",
     "output_type": "stream",
     "text": [
      "Dual(real=20, dual=10)\n"
     ]
    }
   ],
   "source": [
    "# The operate-and-assign operators are also defined similarly.\n",
    "\n",
    "x*=10\n",
    "\n",
    "print(x)"
   ]
  },
  {
   "cell_type": "code",
   "execution_count": 7,
   "metadata": {},
   "outputs": [
    {
     "name": "stdout",
     "output_type": "stream",
     "text": [
      "Dual(real=2.0, dual=2.25)\n",
      "Dual(real=2.0, dual=2.25)\n"
     ]
    }
   ],
   "source": [
    "# Exponentiation of dual numbers is defined for purely real exponents (i.e. the dual part must be 0).\n",
    "\n",
    "z=df.Dual(4,9)\n",
    "\n",
    "print(z**0.5)\n",
    "print(z**df.Dual(0.5,0))"
   ]
  },
  {
   "cell_type": "code",
   "execution_count": 8,
   "metadata": {},
   "outputs": [
    {
     "data": {
      "text/plain": [
       "False"
      ]
     },
     "execution_count": 8,
     "metadata": {},
     "output_type": "execute_result"
    }
   ],
   "source": [
    "# We can check for (in)equivalence of dual numbers. \n",
    "\n",
    "x==z"
   ]
  },
  {
   "cell_type": "code",
   "execution_count": 9,
   "metadata": {},
   "outputs": [
    {
     "name": "stdout",
     "output_type": "stream",
     "text": [
      "Dual(real=0.25, dual=-0.5625)\n",
      "Dual(real=0.25, dual=-0.5625)\n"
     ]
    }
   ],
   "source": [
    "# Note: '~' is the inversion operator (equivalent to raising an dual number to an exponent of (-1)).\n",
    "\n",
    "print(~z)\n",
    "print(z**(-1))"
   ]
  },
  {
   "cell_type": "markdown",
   "metadata": {},
   "source": [
    "The `Dual` class also defines several common mathematical functions (see documentation for details) that can be extended to dual numbers.\n"
   ]
  },
  {
   "cell_type": "code",
   "execution_count": 10,
   "metadata": {},
   "outputs": [
    {
     "name": "stdout",
     "output_type": "stream",
     "text": [
      "Dual(real=1.0, dual=6.123233995736766e-17)\n",
      "Dual(real=2.718281828459045, dual=13.591409142295225)\n"
     ]
    }
   ],
   "source": [
    "import numpy as np\n",
    "\n",
    "a=df.Dual(np.pi/2, 1)\n",
    "\n",
    "print(a.sin())\n",
    "\n",
    "print(df.Dual(1,5).exp())"
   ]
  },
  {
   "cell_type": "markdown",
   "metadata": {},
   "source": [
    "### Example - using the `Dual` class to compute derivatives\n",
    "\n",
    "Dual numbers allow us to compute gradients to high levels of accuracy via the technique of Automatic Differentiation. \n",
    "\n",
    "This follows from Taylor's Theorem,\n",
    "$ f(a + b \\epsilon) = f(a) + f^\\prime(a) (b \\epsilon)$\n",
    "where higher-order terms vanish since $\\epsilon^2=0$. Thus the gradient at $x=a$ can be found by taking the dual part of $ f(a + \\epsilon) $.\n",
    "\n",
    "Below, we compute the gradient of $ f(x) = \\log(\\sin(x)) + x^2 \\cos(x) $ at $x=1.5$ using \n",
    " - dual numbers\n",
    " - the analytical derivative\n",
    " - numerically, with decreasing step size\n",
    "\n",
    "and compare the results."
   ]
  },
  {
   "cell_type": "code",
   "execution_count": 9,
   "metadata": {},
   "outputs": [],
   "source": [
    "# Import the relevant packages\n",
    "import numpy as np\n",
    "import matplotlib.pyplot as plt"
   ]
  },
  {
   "cell_type": "markdown",
   "metadata": {},
   "source": [
    "Firstly, I compute the derivative of the function using dual numbers."
   ]
  },
  {
   "cell_type": "code",
   "execution_count": 12,
   "metadata": {},
   "outputs": [
    {
     "name": "stdout",
     "output_type": "stream",
     "text": [
      "-1.9612372705533612\n"
     ]
    }
   ],
   "source": [
    "# Define a function that we would like to differentiate at x==1.5. \n",
    "x=df.Dual(1.5,1)\n",
    "output = (x.sin()).log() + (x**2) * x.cos()\n",
    "\n",
    "# Compute the gradient using Taylors' Theorem\n",
    "grad_dual=output.dual\n",
    "print(grad_dual)"
   ]
  },
  {
   "cell_type": "markdown",
   "metadata": {},
   "source": [
    "Secondly, I compute the analytical derivative of the function."
   ]
  },
  {
   "cell_type": "code",
   "execution_count": 13,
   "metadata": {},
   "outputs": [
    {
     "name": "stdout",
     "output_type": "stream",
     "text": [
      "-1.9612372705533612\n"
     ]
    }
   ],
   "source": [
    "# Compare to the analytical result\n",
    "def f_prime(x):\n",
    "    return 1/np.tan(x) + 2*x*np.cos(x) - x**2 * np.sin(x)\n",
    "\n",
    "grad_anal=f_prime(1.5)\n",
    "print(grad_anal)"
   ]
  },
  {
   "cell_type": "markdown",
   "metadata": {},
   "source": [
    " This result agrees with the gradient obtained using dual numbers at the machine precision level (up to 1e-16)! This shows that the dual number method is very accurate, which is highly useful for performing automatic differentiation.\n",
    "\n",
    "Thirdly, for comparison, I compute the numerical derivative of the function using a decreasing step size. I have also plotted the results and included the dual/analytical derivative for comparison."
   ]
  },
  {
   "cell_type": "code",
   "execution_count": 17,
   "metadata": {},
   "outputs": [
    {
     "data": {
      "image/png": "[encoded data removed]",
      "text/plain": [
       "<Figure size 640x480 with 1 Axes>"
      ]
     },
     "metadata": {},
     "output_type": "display_data"
    }
   ],
   "source": [
    "# Define the function f to compute the numerical gradient\n",
    "def f(x):\n",
    "    y = np.log(np.sin(x)) + x**2 *np.cos(x)\n",
    "    return y\n",
    "\n",
    "# Compute the numerical gradient at x==1.5    \n",
    "x=1.5  \n",
    "\n",
    "grad_num=[]\n",
    "for i in range(20):\n",
    "    eps=10**(-i)\n",
    "    y = (f(x+eps) - f(x))/eps\n",
    "    grad_num.append(y)\n",
    "\n",
    "# Plot the gradient at each step size\n",
    "step_size=[10**(-i) for i in range(20)]\n",
    "plt.plot(step_size, grad_num, marker='x', label=\"Numerical\")\n",
    "plt.xlabel(\"Step size\")\n",
    "plt.xscale('log')\n",
    "plt.ylabel(\"Gradient at $x=1.5$\")\n",
    "plt.title(\"Derivative of $ f(x) = log(sin(x)) + x^2 cos(x) $ at $x=1.5$\")\n",
    "plt.hlines(grad_dual, xmin=0, xmax=1, color='r', ls=\"-.\", label= \"Dual\")\n",
    "plt.hlines(grad_anal, xmin=0, xmax=1, color='g', ls=\"--\", label= \"Analytical\")\n",
    "plt.legend()\n",
    "plt.show()\n"
   ]
  },
  {
   "cell_type": "markdown",
   "metadata": {},
   "source": [
    "This looks like a good approximation to the derivative, but if we examine the errors, we find that it is not as accurate as the dual number method. I have plotted the error below."
   ]
  },
  {
   "cell_type": "code",
   "execution_count": 18,
   "metadata": {},
   "outputs": [
    {
     "data": {
      "image/png": "[encoded data removed]",
      "text/plain": [
       "<Figure size 640x480 with 1 Axes>"
      ]
     },
     "metadata": {},
     "output_type": "display_data"
    }
   ],
   "source": [
    "# Plot the error at each step size\n",
    "step_size=[10**(-i) for i in range(20)]\n",
    "plt.plot(step_size, np.abs(grad_num-grad_anal), marker='x', label=\"Numerical\")\n",
    "plt.xlabel(\"Step size\")\n",
    "plt.ylabel(\"Absolute value of Error\")\n",
    "plt.xscale('log')\n",
    "plt.yscale('log')\n",
    "#plt.ylim(10**(-9), 10**(0))\n",
    "plt.title(\"|Error| in derivative of $ f(x) = log(sin(x)) + x^2 cos(x) $ at $x=1.5$\")\n",
    "plt.legend()\n",
    "plt.show()"
   ]
  },
  {
   "cell_type": "markdown",
   "metadata": {},
   "source": [
    "In summary, the numerical method is limited by the step size, which can introduce errors if it becomes too large (because the higher order terms in the Taylor expansion are not yet small enough) or too small (due to rounding error). "
   ]
  },
  {
   "cell_type": "markdown",
   "metadata": {},
   "source": [
    "### Cythonized Package"
   ]
  },
  {
   "cell_type": "code",
   "execution_count": 2,
   "metadata": {},
   "outputs": [
    {
     "name": "stdout",
     "output_type": "stream",
     "text": [
      "dual_autodiff_x package version: 0.1.0\n"
     ]
    }
   ],
   "source": [
    "import dual_autodiff_x as dfx"
   ]
  },
  {
   "cell_type": "code",
   "execution_count": 3,
   "metadata": {},
   "outputs": [
    {
     "data": {
      "text/plain": [
       "Dual(real=717897987691852588770249, dual=11964966461530876479504150)"
      ]
     },
     "execution_count": 3,
     "metadata": {},
     "output_type": "execute_result"
    }
   ],
   "source": [
    "x=dfx.Dual(3,1)\n",
    "x**50"
   ]
  },
  {
   "cell_type": "code",
   "execution_count": 3,
   "metadata": {},
   "outputs": [],
   "source": [
    "import timeit "
   ]
  },
  {
   "cell_type": "code",
   "execution_count": 4,
   "metadata": {},
   "outputs": [],
   "source": [
    "def df_test(num_loops=1000):\n",
    "    for _ in range(num_loops):\n",
    "        x=df.Dual(2,1)\n",
    "        y=df.Dual(3,4)\n",
    "\n",
    "        x+y\n",
    "        x-y\n",
    "        x*y\n",
    "        x/y\n",
    "        x**5\n",
    "        x+=y\n",
    "        x-=y\n",
    "        x*=y\n",
    "        x/=y\n",
    "        \n",
    "        output = (x.sin()).log() + (x**2) * x.cos()\n",
    "\n",
    "def dfx_test(num_loops=1000):\n",
    "    for _ in range(num_loops):\n",
    "        x=dfx.Dual(2,1)\n",
    "        y=dfx.Dual(3,4)\n",
    "\n",
    "        x+y\n",
    "        x-y\n",
    "        x*y\n",
    "        x/y\n",
    "        x**5\n",
    "        x+=y\n",
    "        x-=y\n",
    "        x*=y\n",
    "        x/=y\n",
    "        \n",
    "        output = (x.sin()).log() + (x**2) * x.cos()"
   ]
  },
  {
   "cell_type": "code",
   "execution_count": null,
   "metadata": {},
   "outputs": [
    {
     "name": "stdout",
     "output_type": "stream",
     "text": [
      "Execution time for 10 iterations = 13.057298 seconds\n",
      "Execution time for 10 iterations = 10.956724 seconds\n"
     ]
    }
   ],
   "source": [
    "execution_time_df =timeit.timeit('df_test(100000)', globals=globals(), number=10)\n",
    "print(f'Execution time for 100000 iterations = {execution_time_df:.6f} seconds')\n",
    "\n",
    "execution_time_dfx =timeit.timeit('dfx_test(100000)', globals=globals(), number=10)\n",
    "print(f'Execution time for 100000 iterations = {execution_time_dfx:.6f} seconds')"
   ]
  },
  {
   "cell_type": "code",
   "execution_count": 8,
   "metadata": {},
   "outputs": [
    {
     "name": "stdout",
     "output_type": "stream",
     "text": [
      "7.65 s ± 126 ms per loop (mean ± std. dev. of 7 runs, 1 loop each)\n"
     ]
    }
   ],
   "source": [
    "%%timeit\n",
    "for i in range(1000):\n",
    "    for j in range(1000):\n",
    "        # Define a function that we would like to differentiate at x==1.5. \n",
    "        x=dfx.Dual(1.5,1)\n",
    "        output = (x.sin()).log() + (x**2) * x.cos()\n",
    "\n",
    "        # Compute the gradient using Taylors' Theorem\n",
    "        grad_dual=output.dual"
   ]
  },
  {
   "cell_type": "code",
   "execution_count": 6,
   "metadata": {},
   "outputs": [
    {
     "name": "stdout",
     "output_type": "stream",
     "text": [
      "Execution time for 10 iterations = 0.001703 seconds\n",
      "Execution time for 10 iterations = 0.001635 seconds\n",
      "Execution time for 100 iterations = 0.011688 seconds\n",
      "Execution time for 100 iterations = 0.010595 seconds\n",
      "Execution time for 1000 iterations = 0.128092 seconds\n",
      "Execution time for 1000 iterations = 0.104385 seconds\n",
      "Execution time for 10000 iterations = 1.265564 seconds\n",
      "Execution time for 10000 iterations = 1.063477 seconds\n",
      "Execution time for 100000 iterations = 13.100353 seconds\n",
      "Execution time for 100000 iterations = 10.856546 seconds\n",
      "Execution time for 1000000 iterations = 131.297781 seconds\n",
      "Execution time for 1000000 iterations = 108.892062 seconds\n"
     ]
    },
    {
     "ename": "KeyboardInterrupt",
     "evalue": "",
     "output_type": "error",
     "traceback": [
      "\u001b[1;31m---------------------------------------------------------------------------\u001b[0m",
      "\u001b[1;31mKeyboardInterrupt\u001b[0m                         Traceback (most recent call last)",
      "Cell \u001b[1;32mIn[6], line 4\u001b[0m\n\u001b[0;32m      2\u001b[0m dfx_time\u001b[38;5;241m=\u001b[39m[]\n\u001b[0;32m      3\u001b[0m \u001b[38;5;28;01mfor\u001b[39;00m i \u001b[38;5;129;01min\u001b[39;00m \u001b[38;5;28mrange\u001b[39m(\u001b[38;5;241m1\u001b[39m,\u001b[38;5;241m8\u001b[39m):\n\u001b[1;32m----> 4\u001b[0m     execution_time_df \u001b[38;5;241m=\u001b[39m\u001b[43mtimeit\u001b[49m\u001b[38;5;241;43m.\u001b[39;49m\u001b[43mtimeit\u001b[49m\u001b[43m(\u001b[49m\u001b[38;5;124;43m'\u001b[39;49m\u001b[38;5;124;43mdf_test(10**i)\u001b[39;49m\u001b[38;5;124;43m'\u001b[39;49m\u001b[43m,\u001b[49m\u001b[43m \u001b[49m\u001b[38;5;28;43mglobals\u001b[39;49m\u001b[38;5;241;43m=\u001b[39;49m\u001b[38;5;28;43mglobals\u001b[39;49m\u001b[43m(\u001b[49m\u001b[43m)\u001b[49m\u001b[43m,\u001b[49m\u001b[43m \u001b[49m\u001b[43mnumber\u001b[49m\u001b[38;5;241;43m=\u001b[39;49m\u001b[38;5;241;43m10\u001b[39;49m\u001b[43m)\u001b[49m\n\u001b[0;32m      5\u001b[0m     df_time\u001b[38;5;241m.\u001b[39mappend(execution_time_df)\n\u001b[0;32m      6\u001b[0m     \u001b[38;5;28mprint\u001b[39m(\u001b[38;5;124mf\u001b[39m\u001b[38;5;124m'\u001b[39m\u001b[38;5;124mExecution time for \u001b[39m\u001b[38;5;132;01m{\u001b[39;00m\u001b[38;5;241m10\u001b[39m\u001b[38;5;241m*\u001b[39m\u001b[38;5;241m*\u001b[39mi\u001b[38;5;132;01m}\u001b[39;00m\u001b[38;5;124m iterations = \u001b[39m\u001b[38;5;132;01m{\u001b[39;00mexecution_time_df\u001b[38;5;132;01m:\u001b[39;00m\u001b[38;5;124m.6f\u001b[39m\u001b[38;5;132;01m}\u001b[39;00m\u001b[38;5;124m seconds\u001b[39m\u001b[38;5;124m'\u001b[39m)\n",
      "File \u001b[1;32m~\\AppData\\Local\\Programs\\Python\\Python311\\Lib\\timeit.py:234\u001b[0m, in \u001b[0;36mtimeit\u001b[1;34m(stmt, setup, timer, number, globals)\u001b[0m\n\u001b[0;32m    231\u001b[0m \u001b[38;5;28;01mdef\u001b[39;00m \u001b[38;5;21mtimeit\u001b[39m(stmt\u001b[38;5;241m=\u001b[39m\u001b[38;5;124m\"\u001b[39m\u001b[38;5;124mpass\u001b[39m\u001b[38;5;124m\"\u001b[39m, setup\u001b[38;5;241m=\u001b[39m\u001b[38;5;124m\"\u001b[39m\u001b[38;5;124mpass\u001b[39m\u001b[38;5;124m\"\u001b[39m, timer\u001b[38;5;241m=\u001b[39mdefault_timer,\n\u001b[0;32m    232\u001b[0m            number\u001b[38;5;241m=\u001b[39mdefault_number, \u001b[38;5;28mglobals\u001b[39m\u001b[38;5;241m=\u001b[39m\u001b[38;5;28;01mNone\u001b[39;00m):\n\u001b[0;32m    233\u001b[0m \u001b[38;5;250m    \u001b[39m\u001b[38;5;124;03m\"\"\"Convenience function to create Timer object and call timeit method.\"\"\"\u001b[39;00m\n\u001b[1;32m--> 234\u001b[0m     \u001b[38;5;28;01mreturn\u001b[39;00m \u001b[43mTimer\u001b[49m\u001b[43m(\u001b[49m\u001b[43mstmt\u001b[49m\u001b[43m,\u001b[49m\u001b[43m \u001b[49m\u001b[43msetup\u001b[49m\u001b[43m,\u001b[49m\u001b[43m \u001b[49m\u001b[43mtimer\u001b[49m\u001b[43m,\u001b[49m\u001b[43m \u001b[49m\u001b[38;5;28;43mglobals\u001b[39;49m\u001b[43m)\u001b[49m\u001b[38;5;241;43m.\u001b[39;49m\u001b[43mtimeit\u001b[49m\u001b[43m(\u001b[49m\u001b[43mnumber\u001b[49m\u001b[43m)\u001b[49m\n",
      "File \u001b[1;32m~\\AppData\\Local\\Programs\\Python\\Python311\\Lib\\timeit.py:178\u001b[0m, in \u001b[0;36mTimer.timeit\u001b[1;34m(self, number)\u001b[0m\n\u001b[0;32m    176\u001b[0m gc\u001b[38;5;241m.\u001b[39mdisable()\n\u001b[0;32m    177\u001b[0m \u001b[38;5;28;01mtry\u001b[39;00m:\n\u001b[1;32m--> 178\u001b[0m     timing \u001b[38;5;241m=\u001b[39m \u001b[38;5;28;43mself\u001b[39;49m\u001b[38;5;241;43m.\u001b[39;49m\u001b[43minner\u001b[49m\u001b[43m(\u001b[49m\u001b[43mit\u001b[49m\u001b[43m,\u001b[49m\u001b[43m \u001b[49m\u001b[38;5;28;43mself\u001b[39;49m\u001b[38;5;241;43m.\u001b[39;49m\u001b[43mtimer\u001b[49m\u001b[43m)\u001b[49m\n\u001b[0;32m    179\u001b[0m \u001b[38;5;28;01mfinally\u001b[39;00m:\n\u001b[0;32m    180\u001b[0m     \u001b[38;5;28;01mif\u001b[39;00m gcold:\n",
      "File \u001b[1;32m<timeit-src>:6\u001b[0m, in \u001b[0;36minner\u001b[1;34m(_it, _timer)\u001b[0m\n",
      "Cell \u001b[1;32mIn[4], line 16\u001b[0m, in \u001b[0;36mdf_test\u001b[1;34m(num_loops)\u001b[0m\n\u001b[0;32m     13\u001b[0m x\u001b[38;5;241m*\u001b[39m\u001b[38;5;241m=\u001b[39my\n\u001b[0;32m     14\u001b[0m x\u001b[38;5;241m/\u001b[39m\u001b[38;5;241m=\u001b[39my\n\u001b[1;32m---> 16\u001b[0m output \u001b[38;5;241m=\u001b[39m (x\u001b[38;5;241m.\u001b[39msin())\u001b[38;5;241m.\u001b[39mlog() \u001b[38;5;241m+\u001b[39m (\u001b[43mx\u001b[49m\u001b[38;5;241;43m*\u001b[39;49m\u001b[38;5;241;43m*\u001b[39;49m\u001b[38;5;241;43m2\u001b[39;49m) \u001b[38;5;241m*\u001b[39m x\u001b[38;5;241m.\u001b[39mcos()\n",
      "File \u001b[1;32m~\\MPhil_DIS\\C1\\fm565\\dual_autodiff\\dual.py:165\u001b[0m, in \u001b[0;36mDual.__pow__\u001b[1;34m(self, other)\u001b[0m\n\u001b[0;32m    163\u001b[0m n\u001b[38;5;241m=\u001b[39mother\u001b[38;5;241m.\u001b[39mreal\n\u001b[0;32m    164\u001b[0m \u001b[38;5;28;01mif\u001b[39;00m other\u001b[38;5;241m.\u001b[39mdual\u001b[38;5;241m==\u001b[39m\u001b[38;5;241m0\u001b[39m:\n\u001b[1;32m--> 165\u001b[0m     \u001b[38;5;28;01mreturn\u001b[39;00m \u001b[43mDual\u001b[49m\u001b[43m(\u001b[49m\u001b[43ma\u001b[49m\u001b[43m \u001b[49m\u001b[38;5;241;43m*\u001b[39;49m\u001b[38;5;241;43m*\u001b[39;49m\u001b[43m \u001b[49m\u001b[43mn\u001b[49m\u001b[43m,\u001b[49m\u001b[43m \u001b[49m\u001b[43mn\u001b[49m\u001b[43m \u001b[49m\u001b[38;5;241;43m*\u001b[39;49m\u001b[43m \u001b[49m\u001b[43mb\u001b[49m\u001b[43m \u001b[49m\u001b[38;5;241;43m*\u001b[39;49m\u001b[43m \u001b[49m\u001b[43ma\u001b[49m\u001b[43m \u001b[49m\u001b[38;5;241;43m*\u001b[39;49m\u001b[38;5;241;43m*\u001b[39;49m\u001b[43m \u001b[49m\u001b[43m(\u001b[49m\u001b[43mn\u001b[49m\u001b[38;5;241;43m-\u001b[39;49m\u001b[38;5;241;43m1\u001b[39;49m\u001b[43m)\u001b[49m\u001b[43m)\u001b[49m\n\u001b[0;32m    166\u001b[0m \u001b[38;5;28;01melse\u001b[39;00m:\n\u001b[0;32m    167\u001b[0m     \u001b[38;5;28mprint\u001b[39m(\u001b[38;5;124m\"\u001b[39m\u001b[38;5;124mPower invalid: dual part of exponent must be zero\u001b[39m\u001b[38;5;124m\"\u001b[39m)\n",
      "\u001b[1;31mKeyboardInterrupt\u001b[0m: "
     ]
    }
   ],
   "source": [
    "df_time=[]\n",
    "dfx_time=[]\n",
    "for i in range(1,8):\n",
    "    execution_time_df =timeit.timeit('df_test(10**i)', globals=globals(), number=10)\n",
    "    df_time.append(execution_time_df)\n",
    "    print(f'Execution time for {10**i} iterations = {execution_time_df:.6f} seconds')\n",
    "\n",
    "    execution_time_dfx =timeit.timeit('dfx_test(10**i)', globals=globals(), number=10)\n",
    "    dfx_time.append(execution_time_dfx)\n",
    "    print(f'Execution time for {10**i} iterations = {execution_time_dfx:.6f} seconds')\n",
    "    "
   ]
  },
  {
   "cell_type": "code",
   "execution_count": 19,
   "metadata": {},
   "outputs": [
    {
     "data": {
      "text/plain": [
       "<matplotlib.legend.Legend at 0x1dca7327f10>"
      ]
     },
     "execution_count": 19,
     "metadata": {},
     "output_type": "execute_result"
    },
    {
     "data": {
      "image/png": "[encoded data removed]",
      "text/plain": [
       "<Figure size 640x480 with 1 Axes>"
      ]
     },
     "metadata": {},
     "output_type": "display_data"
    }
   ],
   "source": [
    "size=[10**i for i in range(1,7)]\n",
    "plt.loglog(size, df_time, label='Python')\n",
    "plt.loglog(size, dfx_time, label='Cython')\n",
    "plt.xlabel('Number of loops')\n",
    "plt.ylabel('Time')\n",
    "plt.legend()"
   ]
  },
  {
   "cell_type": "code",
   "execution_count": 7,
   "metadata": {},
   "outputs": [
    {
     "name": "stdout",
     "output_type": "stream",
     "text": [
      "8.24 s ± 105 ms per loop (mean ± std. dev. of 7 runs, 1 loop each)\n"
     ]
    }
   ],
   "source": [
    "%%timeit\n",
    "for i in range(1000):\n",
    "    for j in range(1000):\n",
    "        # Define a function that we would like to differentiate at x==1.5. \n",
    "        y=df.Dual(1.5,1)\n",
    "        output = (y.sin()).log() + (y**2) * y.cos()\n",
    "\n",
    "        # Compute the gradient using Taylors' Theorem\n",
    "        grad_dual=output.dual"
   ]
  },
  {
   "cell_type": "code",
   "execution_count": 15,
   "metadata": {},
   "outputs": [
    {
     "name": "stdout",
     "output_type": "stream",
     "text": [
      "71.4 μs ± 999 ns per loop (mean ± std. dev. of 7 runs, 10,000 loops each)\n"
     ]
    }
   ],
   "source": [
    "%%timeit\n",
    "x=dfx.Dual(1.5,1)\n",
    "((x.sin().cos().tan())**2).log().exp().sin().sin().sin().sin().sin().sin().sin().sin().sin().sin().sin().sin().sin().sin().sin()"
   ]
  },
  {
   "cell_type": "code",
   "execution_count": 16,
   "metadata": {},
   "outputs": [
    {
     "name": "stdout",
     "output_type": "stream",
     "text": [
      "71.8 μs ± 1.38 μs per loop (mean ± std. dev. of 7 runs, 10,000 loops each)\n"
     ]
    }
   ],
   "source": [
    "%%timeit\n",
    "y=df.Dual(1.5,1)\n",
    "((y.sin().cos().tan())**2).log().exp().sin().sin().sin().sin().sin().sin().sin().sin().sin().sin().sin().sin().sin().sin().sin()"
   ]
  }
 ],
 "metadata": {
  "kernelspec": {
   "display_name": "c1_cwk",
   "language": "python",
   "name": "python3"
  },
  "language_info": {
   "codemirror_mode": {
    "name": "ipython",
    "version": 3
   },
   "file_extension": ".py",
   "mimetype": "text/x-python",
   "name": "python",
   "nbconvert_exporter": "python",
   "pygments_lexer": "ipython3",
   "version": "3.11.4"
  }
 },
 "nbformat": 4,
 "nbformat_minor": 4
}
