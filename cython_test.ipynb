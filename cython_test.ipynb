{
 "cells": [
  {
   "cell_type": "markdown",
   "metadata": {},
   "source": [
    "## Notebook to test the Cython package \n",
    "\n",
    "This notebook is designed to test the `dual_autodiff_x` Cython package after installing the Linux wheel. \n",
    "You will also need to install `numpy` to run the final cell. \n",
    "\n",
    "**NOTE: The Cython package does not support applying binary operators to a `Dual` object and a scalar. This is because I have included static typing where the second argument is a `Dual` object.**\n",
    "\n",
    "### Basic Usage\n",
    "\n",
    "Once the package has been installed, import the dual_autodiff_x package:\n"
   ]
  },
  {
   "cell_type": "code",
   "execution_count": 1,
   "metadata": {},
   "outputs": [
    {
     "name": "stdout",
     "output_type": "stream",
     "text": [
      "dual_autodiff_x package version: 0.1.0\n"
     ]
    }
   ],
   "source": [
    "import dual_autodiff_x as dfx"
   ]
  },
  {
   "cell_type": "markdown",
   "metadata": {},
   "source": [
    "We can create a dual number by calling the `Dual` class and passing a real and dual part as arguments. We can then return the real and dual parts in two different ways, as shown below:"
   ]
  },
  {
   "cell_type": "code",
   "execution_count": 2,
   "metadata": {},
   "outputs": [
    {
     "name": "stdout",
     "output_type": "stream",
     "text": [
      "2.0\n",
      "1.0\n"
     ]
    }
   ],
   "source": [
    "# Define a dual number\n",
    "x=dfx.Dual(2,1)\n",
    "\n",
    "# Print the real and dual parts, either using the class attributes or designated member functions\n",
    "print(x.real)\n",
    "print(x.du())"
   ]
  },
  {
   "cell_type": "markdown",
   "metadata": {},
   "source": [
    "We can apply basic arithmetical operations to dual numbers as we would with real numbers. This includes: addition, subtraction, multiplication, and division; operate-and-assign operators; raising to a (real) exponent; comparison operators; and unary operators (i.e. inverting, or putting a '-' sign in front of a dual number).\n"
   ]
  },
  {
   "cell_type": "code",
   "execution_count": 3,
   "metadata": {},
   "outputs": [
    {
     "name": "stdout",
     "output_type": "stream",
     "text": [
      "Dual(real=5.0, dual=5.0)\n"
     ]
    }
   ],
   "source": [
    "y=dfx.Dual(3,4)\n",
    "# addition\n",
    "print(x+y)"
   ]
  },
  {
   "cell_type": "code",
   "execution_count": 4,
   "metadata": {},
   "outputs": [
    {
     "name": "stdout",
     "output_type": "stream",
     "text": [
      "Dual(real=1.5, dual=1.25)\n"
     ]
    }
   ],
   "source": [
    "# division\n",
    "print(y/x)"
   ]
  },
  {
   "cell_type": "code",
   "execution_count": 5,
   "metadata": {},
   "outputs": [
    {
     "name": "stdout",
     "output_type": "stream",
     "text": [
      "Dual(real=20.0, dual=10.0)\n"
     ]
    }
   ],
   "source": [
    "# The operate-and-assign operators are also defined similarly.\n",
    "\n",
    "x*=dfx.Dual(10,0)\n",
    "\n",
    "print(x)"
   ]
  },
  {
   "cell_type": "code",
   "execution_count": 6,
   "metadata": {},
   "outputs": [
    {
     "name": "stdout",
     "output_type": "stream",
     "text": [
      "Dual(real=2.0, dual=2.25)\n"
     ]
    }
   ],
   "source": [
    "# Exponentiation of dual numbers is defined for purely real exponents (i.e. the dual part must be 0).\n",
    "\n",
    "z=dfx.Dual(4,9)\n",
    "\n",
    "print(z**dfx.Dual(0.5,0))"
   ]
  },
  {
   "cell_type": "code",
   "execution_count": 7,
   "metadata": {},
   "outputs": [
    {
     "data": {
      "text/plain": [
       "False"
      ]
     },
     "execution_count": 7,
     "metadata": {},
     "output_type": "execute_result"
    }
   ],
   "source": [
    "# We can check for (in)equivalence of dual numbers. \n",
    "\n",
    "x==z"
   ]
  },
  {
   "cell_type": "code",
   "execution_count": 8,
   "metadata": {},
   "outputs": [
    {
     "name": "stdout",
     "output_type": "stream",
     "text": [
      "Dual(real=0.25, dual=-0.5625)\n",
      "Dual(real=0.25, dual=-0.5625)\n"
     ]
    }
   ],
   "source": [
    "# Note: '~' is the inversion operator (equivalent to raising an dual number to an exponent of (-1)).\n",
    "\n",
    "print(~z)\n",
    "print(z**dfx.Dual(-1,0))"
   ]
  },
  {
   "cell_type": "markdown",
   "metadata": {},
   "source": [
    "The `Dual` class also defines several common mathematical functions (see documentation for details) that can be extended to dual numbers.\n"
   ]
  },
  {
   "cell_type": "code",
   "execution_count": 9,
   "metadata": {},
   "outputs": [
    {
     "name": "stdout",
     "output_type": "stream",
     "text": [
      "Dual(real=1.0, dual=6.123233995736766e-17)\n",
      "Dual(real=2.718281828459045, dual=13.591409142295225)\n"
     ]
    }
   ],
   "source": [
    "import numpy as np\n",
    "\n",
    "a=dfx.Dual(np.pi/2, 1)\n",
    "\n",
    "print(a.sin())\n",
    "\n",
    "print(dfx.Dual(1,5).exp())"
   ]
  }
 ],
 "metadata": {
  "kernelspec": {
   "display_name": "c1_cwk",
   "language": "python",
   "name": "python3"
  },
  "language_info": {
   "codemirror_mode": {
    "name": "ipython",
    "version": 3
   },
   "file_extension": ".py",
   "mimetype": "text/x-python",
   "name": "python",
   "nbconvert_exporter": "python",
   "pygments_lexer": "ipython3",
   "version": "3.11.4"
  }
 },
 "nbformat": 4,
 "nbformat_minor": 2
}
